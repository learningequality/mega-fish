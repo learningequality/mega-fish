{
 "cells": [
  {
   "cell_type": "code",
   "execution_count": 2,
   "metadata": {},
   "outputs": [],
   "source": [
    "from mixer.main import mixer\n",
    "\n",
    "class Test:\n",
    "    one = int\n",
    "    two = int\n",
    "    name = str\n",
    "\n",
    "\n",
    "class Scheme:\n",
    "    name = str\n",
    "    money = int\n",
    "    male = bool\n",
    "    prop = Test\n",
    "    slug = str\n",
    "    \n",
    "scheme = mixer.blend(Scheme, prop__one=1)"
   ]
  },
  {
   "cell_type": "code",
   "execution_count": 3,
   "metadata": {},
   "outputs": [
    {
     "data": {
      "text/plain": [
       "'Kristie Glenn'"
      ]
     },
     "execution_count": 3,
     "metadata": {},
     "output_type": "execute_result"
    }
   ],
   "source": [
    "scheme.prop.name"
   ]
  },
  {
   "cell_type": "code",
   "execution_count": 4,
   "metadata": {},
   "outputs": [
    {
     "data": {
      "text/plain": [
       "'defense-religious'"
      ]
     },
     "execution_count": 4,
     "metadata": {},
     "output_type": "execute_result"
    }
   ],
   "source": [
    "scheme.slug\n"
   ]
  },
  {
   "cell_type": "code",
   "execution_count": 12,
   "metadata": {},
   "outputs": [
    {
     "data": {
      "text/plain": [
       "'عالم بديرية'"
      ]
     },
     "execution_count": 12,
     "metadata": {},
     "output_type": "execute_result"
    }
   ],
   "source": [
    "mixer.faker.locale = 'ar'\n",
    "mixer.faker.name()\n"
   ]
  },
  {
   "cell_type": "code",
   "execution_count": 19,
   "metadata": {},
   "outputs": [
    {
     "data": {
      "text/plain": [
       "True"
      ]
     },
     "execution_count": 19,
     "metadata": {},
     "output_type": "execute_result"
    }
   ],
   "source": [
    "from mixer.main import mixer\n",
    "\n",
    "class Test:\n",
    "    id = int\n",
    "    name = str\n",
    "\n",
    "mixer.register(Test,\n",
    "    name=lambda: 'John',\n",
    "    id=lambda: str(mixer.faker.small_positive_integer())\n",
    ")\n",
    "\n",
    "test = mixer.blend(Test)\n",
    "test.name == 'John'\n",
    "isinstance(test.id, str)\n",
    "\n",
    "# You could pinned just a value to field\n",
    "mixer.register(Test, name='Just John')\n",
    "test = mixer.blend(Test)\n",
    "test.name == 'Just John'"
   ]
  },
  {
   "cell_type": "code",
   "execution_count": 22,
   "metadata": {},
   "outputs": [
    {
     "data": {
      "text/plain": [
       "'Just John'"
      ]
     },
     "execution_count": 22,
     "metadata": {},
     "output_type": "execute_result"
    }
   ],
   "source": [
    "test.name"
   ]
  },
  {
   "cell_type": "code",
   "execution_count": 18,
   "metadata": {},
   "outputs": [
    {
     "data": {
      "text/plain": [
       "27498"
      ]
     },
     "execution_count": 18,
     "metadata": {},
     "output_type": "execute_result"
    }
   ],
   "source": [
    "mixer.faker.small_positive_integer()\n"
   ]
  },
  {
   "cell_type": "code",
   "execution_count": 12,
   "metadata": {},
   "outputs": [],
   "source": [
    "from uuid import uuid4\n",
    "# Register middleware to model\n",
    "@mixer.middleware(Scheme)\n",
    "def encrypt_password(user):\n",
    "    user.foo = uuid4().hex\n",
    "    return user"
   ]
  },
  {
   "cell_type": "code",
   "execution_count": 13,
   "metadata": {},
   "outputs": [],
   "source": [
    "scheme = mixer.blend(Scheme, prop__one=7)"
   ]
  },
  {
   "cell_type": "code",
   "execution_count": 14,
   "metadata": {},
   "outputs": [
    {
     "data": {
      "text/plain": [
       "'Brittany Sawyer'"
      ]
     },
     "execution_count": 14,
     "metadata": {},
     "output_type": "execute_result"
    }
   ],
   "source": [
    "scheme.name"
   ]
  },
  {
   "cell_type": "code",
   "execution_count": 15,
   "metadata": {},
   "outputs": [
    {
     "data": {
      "text/plain": [
       "'cfd6c9785bce4be4aa497726a345718f'"
      ]
     },
     "execution_count": 15,
     "metadata": {},
     "output_type": "execute_result"
    }
   ],
   "source": [
    "scheme.foo"
   ]
  },
  {
   "cell_type": "code",
   "execution_count": null,
   "metadata": {},
   "outputs": [],
   "source": []
  },
  {
   "cell_type": "code",
   "execution_count": 1,
   "metadata": {},
   "outputs": [],
   "source": [
    "# from builtins import bytes\n",
    "from mixer.main import mixer\n",
    "from mixer import mix_types\n",
    "\n",
    "from uuid import uuid4\n",
    "from hashlib import md5\n",
    "import random\n",
    "\n",
    "from le_utils.constants import languages\n",
    "ALL_LE_LANG_CODES = [lang.code for lang in languages.LANGUAGELIST]\n",
    "\n",
    "\n",
    "\n",
    "\n",
    "class BaseFileFixtureScheme:\n",
    "    contents = bytes       # random bytes\n",
    "    source_url = mix_types.URL\n",
    "\n",
    "def _base_file_init(file_fixture):\n",
    "    file_fixture.size = len(file_fixture.contents)\n",
    "    file_fixture.checksum = md5(file_fixture.contents).hexdigest()\n",
    "    file_fixture.original_filename = uuid4().hex[0:10]\n",
    "    file_fixture.language = random.choice(ALL_LE_LANG_CODES)\n",
    "    return file_fixture\n",
    "\n",
    "\n",
    "class GraphieFileFixtureScheme(BaseFileFixtureScheme): pass\n",
    "@mixer.middleware(GraphieFileFixtureScheme)\n",
    "def set_filename(file_fixture):\n",
    "    file_fixture = _base_file_init(file_fixture)\n",
    "    file_fixture.preset = 'exercise_graphie'\n",
    "    file_fixture.filename = file_fixture.checksum + '.graphie'\n",
    "    return file_fixture\n",
    "\n",
    "\n",
    "from pytest import fixture\n",
    "@fixture\n",
    "def ssa():\n",
    "    return 'aa'\n",
    "\n",
    "f = mixer.blend(GraphieFileFixtureScheme)"
   ]
  },
  {
   "cell_type": "code",
   "execution_count": 2,
   "metadata": {},
   "outputs": [
    {
     "data": {
      "text/plain": [
       "'aa'"
      ]
     },
     "execution_count": 2,
     "metadata": {},
     "output_type": "execute_result"
    }
   ],
   "source": [
    "ssa()"
   ]
  },
  {
   "cell_type": "code",
   "execution_count": 100,
   "metadata": {},
   "outputs": [
    {
     "data": {
      "text/plain": [
       "'d5afe1dde9'"
      ]
     },
     "execution_count": 100,
     "metadata": {},
     "output_type": "execute_result"
    }
   ],
   "source": [
    "f.original_filename"
   ]
  },
  {
   "cell_type": "code",
   "execution_count": 93,
   "metadata": {},
   "outputs": [
    {
     "data": {
      "text/plain": [
       "b'fQrKHvTFWrRYXeErBBiW'"
      ]
     },
     "execution_count": 93,
     "metadata": {},
     "output_type": "execute_result"
    }
   ],
   "source": [
    "f.contents"
   ]
  },
  {
   "cell_type": "code",
   "execution_count": 94,
   "metadata": {},
   "outputs": [
    {
     "data": {
      "text/plain": [
       "'bda26e5bc8'"
      ]
     },
     "execution_count": 94,
     "metadata": {},
     "output_type": "execute_result"
    }
   ],
   "source": [
    "f.original_filename"
   ]
  },
  {
   "cell_type": "code",
   "execution_count": 89,
   "metadata": {},
   "outputs": [
    {
     "data": {
      "text/plain": [
       "'f33405d65e402f5bde8074b849f2f140.graphie'"
      ]
     },
     "execution_count": 89,
     "metadata": {},
     "output_type": "execute_result"
    }
   ],
   "source": [
    "f.filename"
   ]
  },
  {
   "cell_type": "code",
   "execution_count": 71,
   "metadata": {},
   "outputs": [
    {
     "data": {
      "text/plain": [
       "'a4fbab524ea8a5299b2e7177d7b230d8'"
      ]
     },
     "execution_count": 71,
     "metadata": {},
     "output_type": "execute_result"
    }
   ],
   "source": [
    "f.checksum"
   ]
  },
  {
   "cell_type": "code",
   "execution_count": 72,
   "metadata": {},
   "outputs": [
    {
     "data": {
      "text/plain": [
       "b'ggFSzasNUPGYjVsKbaFW'"
      ]
     },
     "execution_count": 72,
     "metadata": {},
     "output_type": "execute_result"
    }
   ],
   "source": [
    "f.contents"
   ]
  },
  {
   "cell_type": "code",
   "execution_count": 90,
   "metadata": {},
   "outputs": [
    {
     "data": {
      "text/plain": [
       "'pt-BR'"
      ]
     },
     "execution_count": 90,
     "metadata": {},
     "output_type": "execute_result"
    }
   ],
   "source": [
    "f.language"
   ]
  },
  {
   "cell_type": "code",
   "execution_count": 96,
   "metadata": {},
   "outputs": [
    {
     "data": {
      "text/plain": [
       "'https://garza-smith.com/'"
      ]
     },
     "execution_count": 96,
     "metadata": {},
     "output_type": "execute_result"
    }
   ],
   "source": [
    "f.source_url"
   ]
  },
  {
   "cell_type": "code",
   "execution_count": 84,
   "metadata": {},
   "outputs": [
    {
     "data": {
      "text/plain": [
       "'az'"
      ]
     },
     "execution_count": 84,
     "metadata": {},
     "output_type": "execute_result"
    }
   ],
   "source": [
    "from le_utils.constants import languages\n",
    "all_lang_codes = [lang.code for lang in languages.LANGUAGELIST]\n",
    "len(all_lang_codes)\n",
    "random.choice(all_lang_codes)"
   ]
  },
  {
   "cell_type": "code",
   "execution_count": 82,
   "metadata": {},
   "outputs": [
    {
     "data": {
      "text/plain": [
       "'a'"
      ]
     },
     "execution_count": 82,
     "metadata": {},
     "output_type": "execute_result"
    }
   ],
   "source": [
    "import random\n",
    "random.choice(['a', 'bas'])"
   ]
  },
  {
   "cell_type": "code",
   "execution_count": 81,
   "metadata": {},
   "outputs": [],
   "source": [
    "mixer.blend?\n"
   ]
  },
  {
   "cell_type": "code",
   "execution_count": 34,
   "metadata": {},
   "outputs": [],
   "source": [
    "from mixer import mix_types\n"
   ]
  },
  {
   "cell_type": "code",
   "execution_count": 35,
   "metadata": {},
   "outputs": [
    {
     "data": {
      "text/plain": [
       "mixer.mix_types.PositiveInteger"
      ]
     },
     "execution_count": 35,
     "metadata": {},
     "output_type": "execute_result"
    }
   ],
   "source": [
    "mix_types.Text\n"
   ]
  },
  {
   "cell_type": "code",
   "execution_count": null,
   "metadata": {},
   "outputs": [],
   "source": []
  },
  {
   "cell_type": "code",
   "execution_count": 6,
   "metadata": {},
   "outputs": [],
   "source": [
    "import pytest\n",
    "import ipytest\n",
    "import ipytest.magics\n",
    "\n",
    "ipytest.rewrite_asserts = True\n",
    "\n",
    "# set the filename\n",
    "__file__ = 'ExploreMixerAPI.ipynb'"
   ]
  },
  {
   "cell_type": "code",
   "execution_count": 10,
   "metadata": {},
   "outputs": [
    {
     "name": "stdout",
     "output_type": "stream",
     "text": [
      "====================================== test session starts =======================================\n",
      "platform darwin -- Python 3.6.5, pytest-3.8.2, py-1.7.0, pluggy-0.7.1\n",
      "rootdir: /Users/ivan/Projects/FLECode/mega-fish/notebooks, inifile:\n",
      "collected 0 items\n",
      "\n",
      "================================== no tests ran in 0.02 seconds ==================================\n"
     ]
    }
   ],
   "source": [
    "%%run_pytest -s\n",
    "\n",
    "\n",
    "@pytest.fixture\n",
    "def make_customer_record():\n",
    "\n",
    "    def _make_customer_record(name):\n",
    "        return {\n",
    "            \"name\": name,\n",
    "            \"orders\": []\n",
    "        }\n",
    "\n",
    "    return _make_customer_record\n",
    "\n",
    "\n",
    "def test_customer_records(make_customer_record):\n",
    "    customer_1 = make_customer_record(\"Lisa\")\n",
    "    customer_2 = make_customer_record(\"Mike\")\n",
    "    customer_3 = make_customer_record(\"Meredith\")\n",
    "    assert customer_1\n",
    "    print(customer_1)\n",
    "    \n",
    "def test_a():\n",
    "    print('b')"
   ]
  },
  {
   "cell_type": "code",
   "execution_count": 11,
   "metadata": {},
   "outputs": [
    {
     "name": "stderr",
     "output_type": "stream",
     "text": [
      "\n",
      "----------------------------------------------------------------------\n",
      "Ran 0 tests in 0.000s\n",
      "\n",
      "OK\n"
     ]
    }
   ],
   "source": [
    "ipytest.run_tests('-s -qq')"
   ]
  },
  {
   "cell_type": "code",
   "execution_count": null,
   "metadata": {},
   "outputs": [],
   "source": []
  },
  {
   "cell_type": "code",
   "execution_count": null,
   "metadata": {},
   "outputs": [],
   "source": []
  },
  {
   "cell_type": "code",
   "execution_count": null,
   "metadata": {},
   "outputs": [],
   "source": []
  }
 ],
 "metadata": {
  "kernelspec": {
   "display_name": "Python 3",
   "language": "python",
   "name": "python3"
  },
  "language_info": {
   "codemirror_mode": {
    "name": "ipython",
    "version": 3
   },
   "file_extension": ".py",
   "mimetype": "text/x-python",
   "name": "python",
   "nbconvert_exporter": "python",
   "pygments_lexer": "ipython3",
   "version": "3.6.5"
  }
 },
 "nbformat": 4,
 "nbformat_minor": 2
}
